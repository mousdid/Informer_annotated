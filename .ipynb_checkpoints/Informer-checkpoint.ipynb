{
 "cells": [
  {
   "cell_type": "markdown",
   "id": "e0ac33ed-220d-487f-bfd1-820c1e9842ec",
   "metadata": {},
   "source": [
    "Table of content"
   ]
  },
  {
   "cell_type": "markdown",
   "id": "89b0efdf-2a82-4ca9-9cda-66dce56155c9",
   "metadata": {},
   "source": [
    "........"
   ]
  },
  {
   "cell_type": "markdown",
   "id": "a2eecb0b-0297-4115-b598-a8b817c3db49",
   "metadata": {},
   "source": [
    "Background"
   ]
  },
  {
   "cell_type": "markdown",
   "id": "716db96f-351b-4dd0-81a3-776337234ca3",
   "metadata": {},
   "source": [
    "-transformer for time series\n",
    "-breakthrough:less computational time: .....\n"
   ]
  }
 ],
 "metadata": {
  "kernelspec": {
   "display_name": "Python 3 (ipykernel)",
   "language": "python",
   "name": "python3"
  },
  "language_info": {
   "codemirror_mode": {
    "name": "ipython",
    "version": 3
   },
   "file_extension": ".py",
   "mimetype": "text/x-python",
   "name": "python",
   "nbconvert_exporter": "python",
   "pygments_lexer": "ipython3",
   "version": "3.12.4"
  }
 },
 "nbformat": 4,
 "nbformat_minor": 5
}
